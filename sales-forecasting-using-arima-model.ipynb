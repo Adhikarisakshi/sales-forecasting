{
 "cells": [
  {
   "cell_type": "code",
   "execution_count": 1,
   "id": "60fcdf3a",
   "metadata": {
    "execution": {
     "iopub.execute_input": "2021-07-25T07:30:55.699518Z",
     "iopub.status.busy": "2021-07-25T07:30:55.698353Z",
     "iopub.status.idle": "2021-07-25T07:30:55.706855Z",
     "shell.execute_reply": "2021-07-25T07:30:55.707499Z",
     "shell.execute_reply.started": "2021-07-25T07:27:32.287151Z"
    },
    "papermill": {
     "duration": 0.049852,
     "end_time": "2021-07-25T07:30:55.707790",
     "exception": false,
     "start_time": "2021-07-25T07:30:55.657938",
     "status": "completed"
    },
    "tags": []
   },
   "outputs": [
    {
     "name": "stderr",
     "output_type": "stream",
     "text": [
      "/opt/conda/lib/python3.7/site-packages/ipykernel_launcher.py:2: FutureWarning: The pandas.datetime class is deprecated and will be removed from pandas in a future version. Import from datetime module instead.\n",
      "  \n"
     ]
    }
   ],
   "source": [
    "import pandas as pd\n",
    "from pandas import datetime"
   ]
  },
  {
   "cell_type": "code",
   "execution_count": 2,
   "id": "d946af38",
   "metadata": {
    "execution": {
     "iopub.execute_input": "2021-07-25T07:30:55.785241Z",
     "iopub.status.busy": "2021-07-25T07:30:55.784767Z",
     "iopub.status.idle": "2021-07-25T07:30:55.787836Z",
     "shell.execute_reply": "2021-07-25T07:30:55.787391Z",
     "shell.execute_reply.started": "2021-07-25T07:27:32.293126Z"
    },
    "papermill": {
     "duration": 0.042806,
     "end_time": "2021-07-25T07:30:55.787932",
     "exception": false,
     "start_time": "2021-07-25T07:30:55.745126",
     "status": "completed"
    },
    "tags": []
   },
   "outputs": [],
   "source": [
    "def parser(x):\n",
    "    return datetime.strptime(x,'%Y-%m')"
   ]
  },
  {
   "cell_type": "code",
   "execution_count": 3,
   "id": "6a8fec85",
   "metadata": {
    "execution": {
     "iopub.execute_input": "2021-07-25T07:30:55.838848Z",
     "iopub.status.busy": "2021-07-25T07:30:55.838383Z",
     "iopub.status.idle": "2021-07-25T07:30:55.951784Z",
     "shell.execute_reply": "2021-07-25T07:30:55.952146Z",
     "shell.execute_reply.started": "2021-07-25T07:27:32.305956Z"
    },
    "papermill": {
     "duration": 0.140794,
     "end_time": "2021-07-25T07:30:55.952286",
     "exception": false,
     "start_time": "2021-07-25T07:30:55.811492",
     "status": "completed"
    },
    "tags": []
   },
   "outputs": [
    {
     "data": {
      "text/html": [
       "<div>\n",
       "<style scoped>\n",
       "    .dataframe tbody tr th:only-of-type {\n",
       "        vertical-align: middle;\n",
       "    }\n",
       "\n",
       "    .dataframe tbody tr th {\n",
       "        vertical-align: top;\n",
       "    }\n",
       "\n",
       "    .dataframe thead th {\n",
       "        text-align: right;\n",
       "    }\n",
       "</style>\n",
       "<table border=\"1\" class=\"dataframe\">\n",
       "  <thead>\n",
       "    <tr style=\"text-align: right;\">\n",
       "      <th></th>\n",
       "      <th>value</th>\n",
       "    </tr>\n",
       "    <tr>\n",
       "      <th>quarter</th>\n",
       "      <th></th>\n",
       "    </tr>\n",
       "  </thead>\n",
       "  <tbody>\n",
       "    <tr>\n",
       "      <th>1994-01-01</th>\n",
       "      <td>29226.3</td>\n",
       "    </tr>\n",
       "    <tr>\n",
       "      <th>1994-02-01</th>\n",
       "      <td>38153.9</td>\n",
       "    </tr>\n",
       "    <tr>\n",
       "      <th>1994-03-01</th>\n",
       "      <td>39414.7</td>\n",
       "    </tr>\n",
       "    <tr>\n",
       "      <th>1994-04-01</th>\n",
       "      <td>37600.3</td>\n",
       "    </tr>\n",
       "    <tr>\n",
       "      <th>1995-01-01</th>\n",
       "      <td>34100.6</td>\n",
       "    </tr>\n",
       "  </tbody>\n",
       "</table>\n",
       "</div>"
      ],
      "text/plain": [
       "              value\n",
       "quarter            \n",
       "1994-01-01  29226.3\n",
       "1994-02-01  38153.9\n",
       "1994-03-01  39414.7\n",
       "1994-04-01  37600.3\n",
       "1995-01-01  34100.6"
      ]
     },
     "execution_count": 3,
     "metadata": {},
     "output_type": "execute_result"
    }
   ],
   "source": [
    "df=pd.read_csv(r\"../input/total-lpg-sales-quarterly/Total LPG sales quarterly.csv\",index_col=[0],parse_dates=[0],date_parser=parser)\n",
    "df.head()"
   ]
  },
  {
   "cell_type": "code",
   "execution_count": 4,
   "id": "31315269",
   "metadata": {
    "execution": {
     "iopub.execute_input": "2021-07-25T07:30:56.005210Z",
     "iopub.status.busy": "2021-07-25T07:30:56.004698Z",
     "iopub.status.idle": "2021-07-25T07:30:56.006681Z",
     "shell.execute_reply": "2021-07-25T07:30:56.007103Z",
     "shell.execute_reply.started": "2021-07-25T07:27:32.442679Z"
    },
    "papermill": {
     "duration": 0.031189,
     "end_time": "2021-07-25T07:30:56.007244",
     "exception": false,
     "start_time": "2021-07-25T07:30:55.976055",
     "status": "completed"
    },
    "tags": []
   },
   "outputs": [
    {
     "data": {
      "text/plain": [
       "(102, 1)"
      ]
     },
     "execution_count": 4,
     "metadata": {},
     "output_type": "execute_result"
    }
   ],
   "source": [
    "df.shape"
   ]
  },
  {
   "cell_type": "code",
   "execution_count": 5,
   "id": "2b7d7108",
   "metadata": {
    "execution": {
     "iopub.execute_input": "2021-07-25T07:30:56.058242Z",
     "iopub.status.busy": "2021-07-25T07:30:56.057783Z",
     "iopub.status.idle": "2021-07-25T07:30:56.061519Z",
     "shell.execute_reply": "2021-07-25T07:30:56.061906Z",
     "shell.execute_reply.started": "2021-07-25T07:27:32.451061Z"
    },
    "papermill": {
     "duration": 0.030306,
     "end_time": "2021-07-25T07:30:56.062030",
     "exception": false,
     "start_time": "2021-07-25T07:30:56.031724",
     "status": "completed"
    },
    "tags": []
   },
   "outputs": [
    {
     "data": {
      "text/plain": [
       "Index(['value'], dtype='object')"
      ]
     },
     "execution_count": 5,
     "metadata": {},
     "output_type": "execute_result"
    }
   ],
   "source": [
    "df.columns"
   ]
  },
  {
   "cell_type": "code",
   "execution_count": 6,
   "id": "cd768ab2",
   "metadata": {
    "execution": {
     "iopub.execute_input": "2021-07-25T07:30:56.114025Z",
     "iopub.status.busy": "2021-07-25T07:30:56.113504Z",
     "iopub.status.idle": "2021-07-25T07:30:56.980150Z",
     "shell.execute_reply": "2021-07-25T07:30:56.979724Z",
     "shell.execute_reply.started": "2021-07-25T07:27:32.464550Z"
    },
    "papermill": {
     "duration": 0.89329,
     "end_time": "2021-07-25T07:30:56.980268",
     "exception": false,
     "start_time": "2021-07-25T07:30:56.086978",
     "status": "completed"
    },
    "tags": []
   },
   "outputs": [],
   "source": [
    "%matplotlib inline\n",
    "import matplotlib.pyplot as plt\n",
    "import seaborn as sns"
   ]
  },
  {
   "cell_type": "code",
   "execution_count": 7,
   "id": "b2c55b9f",
   "metadata": {
    "execution": {
     "iopub.execute_input": "2021-07-25T07:30:57.036953Z",
     "iopub.status.busy": "2021-07-25T07:30:57.035009Z",
     "iopub.status.idle": "2021-07-25T07:30:57.287096Z",
     "shell.execute_reply": "2021-07-25T07:30:57.287506Z",
     "shell.execute_reply.started": "2021-07-25T07:27:33.377067Z"
    },
    "papermill": {
     "duration": 0.282633,
     "end_time": "2021-07-25T07:30:57.287643",
     "exception": false,
     "start_time": "2021-07-25T07:30:57.005010",
     "status": "completed"
    },
    "tags": []
   },
   "outputs": [
    {
     "data": {
      "text/plain": [
       "<AxesSubplot:xlabel='quarter'>"
      ]
     },
     "execution_count": 7,
     "metadata": {},
     "output_type": "execute_result"
    },
    {
     "data": {
      "image/png": "[encoded data removed]",
      "text/plain": [
       "<Figure size 432x288 with 1 Axes>"
      ]
     },
     "metadata": {
      "needs_background": "light"
     },
     "output_type": "display_data"
    }
   ],
   "source": [
    "df.plot()"
   ]
  },
  {
   "cell_type": "code",
   "execution_count": 8,
   "id": "283a7af4",
   "metadata": {
    "execution": {
     "iopub.execute_input": "2021-07-25T07:30:57.343579Z",
     "iopub.status.busy": "2021-07-25T07:30:57.342922Z",
     "iopub.status.idle": "2021-07-25T07:30:58.490860Z",
     "shell.execute_reply": "2021-07-25T07:30:58.489947Z",
     "shell.execute_reply.started": "2021-07-25T07:27:33.633560Z"
    },
    "papermill": {
     "duration": 1.177446,
     "end_time": "2021-07-25T07:30:58.491002",
     "exception": false,
     "start_time": "2021-07-25T07:30:57.313556",
     "status": "completed"
    },
    "tags": []
   },
   "outputs": [
    {
     "data": {
      "image/png": "[encoded data removed]",
      "text/plain": [
       "<Figure size 432x288 with 1 Axes>"
      ]
     },
     "execution_count": 8,
     "metadata": {},
     "output_type": "execute_result"
    },
    {
     "data": {
      "image/png": "[encoded data removed]",
      "text/plain": [
       "<Figure size 432x288 with 1 Axes>"
      ]
     },
     "metadata": {
      "needs_background": "light"
     },
     "output_type": "display_data"
    }
   ],
   "source": [
    "import statsmodels.api \n",
    "from statsmodels.graphics.tsaplots import plot_acf\n",
    "plot_acf(df)"
   ]
  },
  {
   "cell_type": "code",
   "execution_count": 9,
   "id": "fc88cc8d",
   "metadata": {
    "execution": {
     "iopub.execute_input": "2021-07-25T07:30:58.575558Z",
     "iopub.status.busy": "2021-07-25T07:30:58.574879Z",
     "iopub.status.idle": "2021-07-25T07:30:58.577917Z",
     "shell.execute_reply": "2021-07-25T07:30:58.577460Z",
     "shell.execute_reply.started": "2021-07-25T07:27:34.875026Z"
    },
    "papermill": {
     "duration": 0.046558,
     "end_time": "2021-07-25T07:30:58.578051",
     "exception": false,
     "start_time": "2021-07-25T07:30:58.531493",
     "status": "completed"
    },
    "tags": []
   },
   "outputs": [],
   "source": [
    "##stationarity means mean,variance and corealation is constant over a period"
   ]
  },
  {
   "cell_type": "code",
   "execution_count": 10,
   "id": "617fb7bf",
   "metadata": {
    "execution": {
     "iopub.execute_input": "2021-07-25T07:30:58.640765Z",
     "iopub.status.busy": "2021-07-25T07:30:58.640181Z",
     "iopub.status.idle": "2021-07-25T07:30:58.642689Z",
     "shell.execute_reply": "2021-07-25T07:30:58.643078Z",
     "shell.execute_reply.started": "2021-07-25T07:27:34.883274Z"
    },
    "papermill": {
     "duration": 0.037087,
     "end_time": "2021-07-25T07:30:58.643220",
     "exception": false,
     "start_time": "2021-07-25T07:30:58.606133",
     "status": "completed"
    },
    "tags": []
   },
   "outputs": [],
   "source": [
    "###converting the data into stationarity"
   ]
  },
  {
   "cell_type": "code",
   "execution_count": 11,
   "id": "402d8e36",
   "metadata": {
    "execution": {
     "iopub.execute_input": "2021-07-25T07:30:58.717951Z",
     "iopub.status.busy": "2021-07-25T07:30:58.717458Z",
     "iopub.status.idle": "2021-07-25T07:30:58.719838Z",
     "shell.execute_reply": "2021-07-25T07:30:58.720217Z",
     "shell.execute_reply.started": "2021-07-25T07:27:34.894616Z"
    },
    "papermill": {
     "duration": 0.044248,
     "end_time": "2021-07-25T07:30:58.720390",
     "exception": false,
     "start_time": "2021-07-25T07:30:58.676142",
     "status": "completed"
    },
    "tags": []
   },
   "outputs": [
    {
     "data": {
      "text/html": [
       "<div>\n",
       "<style scoped>\n",
       "    .dataframe tbody tr th:only-of-type {\n",
       "        vertical-align: middle;\n",
       "    }\n",
       "\n",
       "    .dataframe tbody tr th {\n",
       "        vertical-align: top;\n",
       "    }\n",
       "\n",
       "    .dataframe thead th {\n",
       "        text-align: right;\n",
       "    }\n",
       "</style>\n",
       "<table border=\"1\" class=\"dataframe\">\n",
       "  <thead>\n",
       "    <tr style=\"text-align: right;\">\n",
       "      <th></th>\n",
       "      <th>value</th>\n",
       "    </tr>\n",
       "    <tr>\n",
       "      <th>quarter</th>\n",
       "      <th></th>\n",
       "    </tr>\n",
       "  </thead>\n",
       "  <tbody>\n",
       "    <tr>\n",
       "      <th>1994-01-01</th>\n",
       "      <td>29226.3</td>\n",
       "    </tr>\n",
       "    <tr>\n",
       "      <th>1994-02-01</th>\n",
       "      <td>38153.9</td>\n",
       "    </tr>\n",
       "    <tr>\n",
       "      <th>1994-03-01</th>\n",
       "      <td>39414.7</td>\n",
       "    </tr>\n",
       "    <tr>\n",
       "      <th>1994-04-01</th>\n",
       "      <td>37600.3</td>\n",
       "    </tr>\n",
       "    <tr>\n",
       "      <th>1995-01-01</th>\n",
       "      <td>34100.6</td>\n",
       "    </tr>\n",
       "  </tbody>\n",
       "</table>\n",
       "</div>"
      ],
      "text/plain": [
       "              value\n",
       "quarter            \n",
       "1994-01-01  29226.3\n",
       "1994-02-01  38153.9\n",
       "1994-03-01  39414.7\n",
       "1994-04-01  37600.3\n",
       "1995-01-01  34100.6"
      ]
     },
     "execution_count": 11,
     "metadata": {},
     "output_type": "execute_result"
    }
   ],
   "source": [
    "df.head(5)"
   ]
  },
  {
   "cell_type": "code",
   "execution_count": 12,
   "id": "1b111127",
   "metadata": {
    "execution": {
     "iopub.execute_input": "2021-07-25T07:30:58.777430Z",
     "iopub.status.busy": "2021-07-25T07:30:58.776939Z",
     "iopub.status.idle": "2021-07-25T07:30:58.786856Z",
     "shell.execute_reply": "2021-07-25T07:30:58.787212Z",
     "shell.execute_reply.started": "2021-07-25T07:27:34.913440Z"
    },
    "papermill": {
     "duration": 0.039402,
     "end_time": "2021-07-25T07:30:58.787371",
     "exception": false,
     "start_time": "2021-07-25T07:30:58.747969",
     "status": "completed"
    },
    "tags": []
   },
   "outputs": [
    {
     "data": {
      "text/html": [
       "<div>\n",
       "<style scoped>\n",
       "    .dataframe tbody tr th:only-of-type {\n",
       "        vertical-align: middle;\n",
       "    }\n",
       "\n",
       "    .dataframe tbody tr th {\n",
       "        vertical-align: top;\n",
       "    }\n",
       "\n",
       "    .dataframe thead th {\n",
       "        text-align: right;\n",
       "    }\n",
       "</style>\n",
       "<table border=\"1\" class=\"dataframe\">\n",
       "  <thead>\n",
       "    <tr style=\"text-align: right;\">\n",
       "      <th></th>\n",
       "      <th>value</th>\n",
       "    </tr>\n",
       "    <tr>\n",
       "      <th>quarter</th>\n",
       "      <th></th>\n",
       "    </tr>\n",
       "  </thead>\n",
       "  <tbody>\n",
       "    <tr>\n",
       "      <th>1994-01-01</th>\n",
       "      <td>NaN</td>\n",
       "    </tr>\n",
       "    <tr>\n",
       "      <th>1994-02-01</th>\n",
       "      <td>29226.3</td>\n",
       "    </tr>\n",
       "    <tr>\n",
       "      <th>1994-03-01</th>\n",
       "      <td>38153.9</td>\n",
       "    </tr>\n",
       "    <tr>\n",
       "      <th>1994-04-01</th>\n",
       "      <td>39414.7</td>\n",
       "    </tr>\n",
       "    <tr>\n",
       "      <th>1995-01-01</th>\n",
       "      <td>37600.3</td>\n",
       "    </tr>\n",
       "    <tr>\n",
       "      <th>...</th>\n",
       "      <td>...</td>\n",
       "    </tr>\n",
       "    <tr>\n",
       "      <th>2018-02-01</th>\n",
       "      <td>22341.0</td>\n",
       "    </tr>\n",
       "    <tr>\n",
       "      <th>2018-03-01</th>\n",
       "      <td>22628.2</td>\n",
       "    </tr>\n",
       "    <tr>\n",
       "      <th>2018-04-01</th>\n",
       "      <td>22552.9</td>\n",
       "    </tr>\n",
       "    <tr>\n",
       "      <th>2019-01-01</th>\n",
       "      <td>22504.0</td>\n",
       "    </tr>\n",
       "    <tr>\n",
       "      <th>2019-02-01</th>\n",
       "      <td>20682.0</td>\n",
       "    </tr>\n",
       "  </tbody>\n",
       "</table>\n",
       "<p>102 rows × 1 columns</p>\n",
       "</div>"
      ],
      "text/plain": [
       "              value\n",
       "quarter            \n",
       "1994-01-01      NaN\n",
       "1994-02-01  29226.3\n",
       "1994-03-01  38153.9\n",
       "1994-04-01  39414.7\n",
       "1995-01-01  37600.3\n",
       "...             ...\n",
       "2018-02-01  22341.0\n",
       "2018-03-01  22628.2\n",
       "2018-04-01  22552.9\n",
       "2019-01-01  22504.0\n",
       "2019-02-01  20682.0\n",
       "\n",
       "[102 rows x 1 columns]"
      ]
     },
     "execution_count": 12,
     "metadata": {},
     "output_type": "execute_result"
    }
   ],
   "source": [
    "df.shift(1)"
   ]
  },
  {
   "cell_type": "code",
   "execution_count": 13,
   "id": "10faf37d",
   "metadata": {
    "execution": {
     "iopub.execute_input": "2021-07-25T07:30:58.848115Z",
     "iopub.status.busy": "2021-07-25T07:30:58.847617Z",
     "iopub.status.idle": "2021-07-25T07:30:58.851167Z",
     "shell.execute_reply": "2021-07-25T07:30:58.851541Z",
     "shell.execute_reply.started": "2021-07-25T07:27:34.932290Z"
    },
    "papermill": {
     "duration": 0.036498,
     "end_time": "2021-07-25T07:30:58.851690",
     "exception": false,
     "start_time": "2021-07-25T07:30:58.815192",
     "status": "completed"
    },
    "tags": []
   },
   "outputs": [
    {
     "data": {
      "text/plain": [
       "Index(['value'], dtype='object')"
      ]
     },
     "execution_count": 13,
     "metadata": {},
     "output_type": "execute_result"
    }
   ],
   "source": [
    "df.columns"
   ]
  },
  {
   "cell_type": "code",
   "execution_count": 14,
   "id": "36dba9ed",
   "metadata": {
    "execution": {
     "iopub.execute_input": "2021-07-25T07:30:58.913253Z",
     "iopub.status.busy": "2021-07-25T07:30:58.912335Z",
     "iopub.status.idle": "2021-07-25T07:30:58.915101Z",
     "shell.execute_reply": "2021-07-25T07:30:58.915479Z",
     "shell.execute_reply.started": "2021-07-25T07:27:34.946361Z"
    },
    "papermill": {
     "duration": 0.037171,
     "end_time": "2021-07-25T07:30:58.915631",
     "exception": false,
     "start_time": "2021-07-25T07:30:58.878460",
     "status": "completed"
    },
    "tags": []
   },
   "outputs": [],
   "source": [
    "#integrated order of one \n",
    "#denoted by d (for difference), one of the parametre of ARIMA model\n",
    "difference=df.diff(periods=1)"
   ]
  },
  {
   "cell_type": "code",
   "execution_count": 15,
   "id": "ab9af81b",
   "metadata": {
    "execution": {
     "iopub.execute_input": "2021-07-25T07:30:58.979737Z",
     "iopub.status.busy": "2021-07-25T07:30:58.978970Z",
     "iopub.status.idle": "2021-07-25T07:30:58.983175Z",
     "shell.execute_reply": "2021-07-25T07:30:58.982740Z",
     "shell.execute_reply.started": "2021-07-25T07:27:34.959674Z"
    },
    "papermill": {
     "duration": 0.03916,
     "end_time": "2021-07-25T07:30:58.983285",
     "exception": false,
     "start_time": "2021-07-25T07:30:58.944125",
     "status": "completed"
    },
    "tags": []
   },
   "outputs": [
    {
     "data": {
      "text/html": [
       "<div>\n",
       "<style scoped>\n",
       "    .dataframe tbody tr th:only-of-type {\n",
       "        vertical-align: middle;\n",
       "    }\n",
       "\n",
       "    .dataframe tbody tr th {\n",
       "        vertical-align: top;\n",
       "    }\n",
       "\n",
       "    .dataframe thead th {\n",
       "        text-align: right;\n",
       "    }\n",
       "</style>\n",
       "<table border=\"1\" class=\"dataframe\">\n",
       "  <thead>\n",
       "    <tr style=\"text-align: right;\">\n",
       "      <th></th>\n",
       "      <th>value</th>\n",
       "    </tr>\n",
       "    <tr>\n",
       "      <th>quarter</th>\n",
       "      <th></th>\n",
       "    </tr>\n",
       "  </thead>\n",
       "  <tbody>\n",
       "    <tr>\n",
       "      <th>1994-02-01</th>\n",
       "      <td>8927.6</td>\n",
       "    </tr>\n",
       "    <tr>\n",
       "      <th>1994-03-01</th>\n",
       "      <td>1260.8</td>\n",
       "    </tr>\n",
       "    <tr>\n",
       "      <th>1994-04-01</th>\n",
       "      <td>-1814.4</td>\n",
       "    </tr>\n",
       "    <tr>\n",
       "      <th>1995-01-01</th>\n",
       "      <td>-3499.7</td>\n",
       "    </tr>\n",
       "    <tr>\n",
       "      <th>1995-02-01</th>\n",
       "      <td>5755.3</td>\n",
       "    </tr>\n",
       "  </tbody>\n",
       "</table>\n",
       "</div>"
      ],
      "text/plain": [
       "             value\n",
       "quarter           \n",
       "1994-02-01  8927.6\n",
       "1994-03-01  1260.8\n",
       "1994-04-01 -1814.4\n",
       "1995-01-01 -3499.7\n",
       "1995-02-01  5755.3"
      ]
     },
     "execution_count": 15,
     "metadata": {},
     "output_type": "execute_result"
    }
   ],
   "source": [
    "difference=difference[1:]\n",
    "difference.head()"
   ]
  },
  {
   "cell_type": "code",
   "execution_count": 16,
   "id": "33773284",
   "metadata": {
    "execution": {
     "iopub.execute_input": "2021-07-25T07:30:59.042276Z",
     "iopub.status.busy": "2021-07-25T07:30:59.041811Z",
     "iopub.status.idle": "2021-07-25T07:30:59.267420Z",
     "shell.execute_reply": "2021-07-25T07:30:59.267772Z",
     "shell.execute_reply.started": "2021-07-25T07:27:34.977645Z"
    },
    "papermill": {
     "duration": 0.256492,
     "end_time": "2021-07-25T07:30:59.267916",
     "exception": false,
     "start_time": "2021-07-25T07:30:59.011424",
     "status": "completed"
    },
    "tags": []
   },
   "outputs": [
    {
     "data": {
      "image/png": "[encoded data removed]",
      "text/plain": [
       "<Figure size 432x288 with 1 Axes>"
      ]
     },
     "execution_count": 16,
     "metadata": {},
     "output_type": "execute_result"
    },
    {
     "data": {
      "image/png": "[encoded data removed]",
      "text/plain": [
       "<Figure size 432x288 with 1 Axes>"
      ]
     },
     "metadata": {
      "needs_background": "light"
     },
     "output_type": "display_data"
    }
   ],
   "source": [
    "plot_acf(difference)"
   ]
  },
  {
   "cell_type": "code",
   "execution_count": 17,
   "id": "19e1a6fa",
   "metadata": {
    "execution": {
     "iopub.execute_input": "2021-07-25T07:30:59.329259Z",
     "iopub.status.busy": "2021-07-25T07:30:59.328702Z",
     "iopub.status.idle": "2021-07-25T07:30:59.496483Z",
     "shell.execute_reply": "2021-07-25T07:30:59.496009Z",
     "shell.execute_reply.started": "2021-07-25T07:27:35.253992Z"
    },
    "papermill": {
     "duration": 0.199412,
     "end_time": "2021-07-25T07:30:59.496601",
     "exception": false,
     "start_time": "2021-07-25T07:30:59.297189",
     "status": "completed"
    },
    "tags": []
   },
   "outputs": [
    {
     "data": {
      "text/plain": [
       "<AxesSubplot:xlabel='quarter'>"
      ]
     },
     "execution_count": 17,
     "metadata": {},
     "output_type": "execute_result"
    },
    {
     "data": {
      "image/png": "[encoded data removed]",
      "text/plain": [
       "<Figure size 432x288 with 1 Axes>"
      ]
     },
     "metadata": {
      "needs_background": "light"
     },
     "output_type": "display_data"
    }
   ],
   "source": [
    "difference.plot()"
   ]
  },
  {
   "cell_type": "code",
   "execution_count": 18,
   "id": "f4ecf6aa",
   "metadata": {
    "execution": {
     "iopub.execute_input": "2021-07-25T07:30:59.561593Z",
     "iopub.status.busy": "2021-07-25T07:30:59.560969Z",
     "iopub.status.idle": "2021-07-25T07:30:59.565404Z",
     "shell.execute_reply": "2021-07-25T07:30:59.565760Z",
     "shell.execute_reply.started": "2021-07-25T07:27:35.458212Z"
    },
    "papermill": {
     "duration": 0.038773,
     "end_time": "2021-07-25T07:30:59.565906",
     "exception": false,
     "start_time": "2021-07-25T07:30:59.527133",
     "status": "completed"
    },
    "tags": []
   },
   "outputs": [
    {
     "data": {
      "text/plain": [
       "102"
      ]
     },
     "execution_count": 18,
     "metadata": {},
     "output_type": "execute_result"
    }
   ],
   "source": [
    "import numpy as np\n",
    "X = df.values\n",
    "X.size"
   ]
  },
  {
   "cell_type": "code",
   "execution_count": 19,
   "id": "88eb12d3",
   "metadata": {
    "execution": {
     "iopub.execute_input": "2021-07-25T07:30:59.631890Z",
     "iopub.status.busy": "2021-07-25T07:30:59.631164Z",
     "iopub.status.idle": "2021-07-25T07:30:59.635486Z",
     "shell.execute_reply": "2021-07-25T07:30:59.635052Z",
     "shell.execute_reply.started": "2021-07-25T07:27:35.465463Z"
    },
    "papermill": {
     "duration": 0.039615,
     "end_time": "2021-07-25T07:30:59.635595",
     "exception": false,
     "start_time": "2021-07-25T07:30:59.595980",
     "status": "completed"
    },
    "tags": []
   },
   "outputs": [
    {
     "data": {
      "text/plain": [
       "81.60000000000001"
      ]
     },
     "execution_count": 19,
     "metadata": {},
     "output_type": "execute_result"
    }
   ],
   "source": [
    "80/100 * 102"
   ]
  },
  {
   "cell_type": "code",
   "execution_count": 20,
   "id": "cc03cd5c",
   "metadata": {
    "execution": {
     "iopub.execute_input": "2021-07-25T07:30:59.701130Z",
     "iopub.status.busy": "2021-07-25T07:30:59.700490Z",
     "iopub.status.idle": "2021-07-25T07:30:59.703629Z",
     "shell.execute_reply": "2021-07-25T07:30:59.703206Z",
     "shell.execute_reply.started": "2021-07-25T07:27:35.480224Z"
    },
    "papermill": {
     "duration": 0.03759,
     "end_time": "2021-07-25T07:30:59.703740",
     "exception": false,
     "start_time": "2021-07-25T07:30:59.666150",
     "status": "completed"
    },
    "tags": []
   },
   "outputs": [],
   "source": [
    "train=X[0:81]\n",
    "test=X[81:]"
   ]
  },
  {
   "cell_type": "code",
   "execution_count": 21,
   "id": "338b7884",
   "metadata": {
    "execution": {
     "iopub.execute_input": "2021-07-25T07:30:59.770998Z",
     "iopub.status.busy": "2021-07-25T07:30:59.770188Z",
     "iopub.status.idle": "2021-07-25T07:30:59.774017Z",
     "shell.execute_reply": "2021-07-25T07:30:59.774429Z",
     "shell.execute_reply.started": "2021-07-25T07:27:35.489871Z"
    },
    "papermill": {
     "duration": 0.039995,
     "end_time": "2021-07-25T07:30:59.774575",
     "exception": false,
     "start_time": "2021-07-25T07:30:59.734580",
     "status": "completed"
    },
    "tags": []
   },
   "outputs": [
    {
     "data": {
      "text/plain": [
       "81"
      ]
     },
     "execution_count": 21,
     "metadata": {},
     "output_type": "execute_result"
    }
   ],
   "source": [
    "train.size"
   ]
  },
  {
   "cell_type": "code",
   "execution_count": 22,
   "id": "3bd4dc8a",
   "metadata": {
    "execution": {
     "iopub.execute_input": "2021-07-25T07:30:59.839414Z",
     "iopub.status.busy": "2021-07-25T07:30:59.838946Z",
     "iopub.status.idle": "2021-07-25T07:30:59.843437Z",
     "shell.execute_reply": "2021-07-25T07:30:59.843786Z",
     "shell.execute_reply.started": "2021-07-25T07:27:35.505213Z"
    },
    "papermill": {
     "duration": 0.03812,
     "end_time": "2021-07-25T07:30:59.843928",
     "exception": false,
     "start_time": "2021-07-25T07:30:59.805808",
     "status": "completed"
    },
    "tags": []
   },
   "outputs": [
    {
     "data": {
      "text/plain": [
       "21"
      ]
     },
     "execution_count": 22,
     "metadata": {},
     "output_type": "execute_result"
    }
   ],
   "source": [
    "test.size"
   ]
  },
  {
   "cell_type": "code",
   "execution_count": 23,
   "id": "7b51fd8c",
   "metadata": {
    "execution": {
     "iopub.execute_input": "2021-07-25T07:30:59.910404Z",
     "iopub.status.busy": "2021-07-25T07:30:59.909847Z",
     "iopub.status.idle": "2021-07-25T07:30:59.912757Z",
     "shell.execute_reply": "2021-07-25T07:30:59.912306Z",
     "shell.execute_reply.started": "2021-07-25T07:27:35.516059Z"
    },
    "papermill": {
     "duration": 0.038015,
     "end_time": "2021-07-25T07:30:59.912871",
     "exception": false,
     "start_time": "2021-07-25T07:30:59.874856",
     "status": "completed"
    },
    "tags": []
   },
   "outputs": [],
   "source": [
    "predictions=[]"
   ]
  },
  {
   "cell_type": "code",
   "execution_count": 24,
   "id": "cfdb9d21",
   "metadata": {
    "execution": {
     "iopub.execute_input": "2021-07-25T07:30:59.979408Z",
     "iopub.status.busy": "2021-07-25T07:30:59.978157Z",
     "iopub.status.idle": "2021-07-25T07:30:59.981193Z",
     "shell.execute_reply": "2021-07-25T07:30:59.981578Z",
     "shell.execute_reply.started": "2021-07-25T07:27:35.525168Z"
    },
    "papermill": {
     "duration": 0.037139,
     "end_time": "2021-07-25T07:30:59.981707",
     "exception": false,
     "start_time": "2021-07-25T07:30:59.944568",
     "status": "completed"
    },
    "tags": []
   },
   "outputs": [],
   "source": [
    "###AUTOREGRESSIVE MODEL (AR)"
   ]
  },
  {
   "cell_type": "code",
   "execution_count": 25,
   "id": "978e593e",
   "metadata": {
    "execution": {
     "iopub.execute_input": "2021-07-25T07:31:00.046161Z",
     "iopub.status.busy": "2021-07-25T07:31:00.045696Z",
     "iopub.status.idle": "2021-07-25T07:31:00.171650Z",
     "shell.execute_reply": "2021-07-25T07:31:00.171143Z",
     "shell.execute_reply.started": "2021-07-25T07:27:35.537755Z"
    },
    "papermill": {
     "duration": 0.159215,
     "end_time": "2021-07-25T07:31:00.171763",
     "exception": false,
     "start_time": "2021-07-25T07:31:00.012548",
     "status": "completed"
    },
    "tags": []
   },
   "outputs": [
    {
     "name": "stderr",
     "output_type": "stream",
     "text": [
      "/opt/conda/lib/python3.7/site-packages/statsmodels/tsa/ar_model.py:791: FutureWarning: \n",
      "statsmodels.tsa.AR has been deprecated in favor of statsmodels.tsa.AutoReg and\n",
      "statsmodels.tsa.SARIMAX.\n",
      "\n",
      "AutoReg adds the ability to specify exogenous variables, include time trends,\n",
      "and add seasonal dummies. The AutoReg API differs from AR since the model is\n",
      "treated as immutable, and so the entire specification including the lag\n",
      "length must be specified when creating the model. This change is too\n",
      "substantial to incorporate into the existing AR api. The function\n",
      "ar_select_order performs lag length selection for AutoReg models.\n",
      "\n",
      "AutoReg only estimates parameters using conditional MLE (OLS). Use SARIMAX to\n",
      "estimate ARX and related models using full MLE via the Kalman Filter.\n",
      "\n",
      "To silence this warning and continue using AR until it is removed, use:\n",
      "\n",
      "import warnings\n",
      "warnings.filterwarnings('ignore', 'statsmodels.tsa.ar_model.AR', FutureWarning)\n",
      "\n",
      "  warnings.warn(AR_DEPRECATION_WARN, FutureWarning)\n"
     ]
    }
   ],
   "source": [
    "from statsmodels.tsa.ar_model import AR\n",
    "from sklearn.metrics import mean_squared_error\n",
    "\n",
    "model_ar=AR(train)\n",
    "model_ar_fit = model_ar.fit()"
   ]
  },
  {
   "cell_type": "code",
   "execution_count": 26,
   "id": "4e359bb1",
   "metadata": {
    "execution": {
     "iopub.execute_input": "2021-07-25T07:31:00.239476Z",
     "iopub.status.busy": "2021-07-25T07:31:00.238030Z",
     "iopub.status.idle": "2021-07-25T07:31:00.242854Z",
     "shell.execute_reply": "2021-07-25T07:31:00.243279Z",
     "shell.execute_reply.started": "2021-07-25T07:27:35.695081Z"
    },
    "papermill": {
     "duration": 0.040042,
     "end_time": "2021-07-25T07:31:00.243434",
     "exception": false,
     "start_time": "2021-07-25T07:31:00.203392",
     "status": "completed"
    },
    "tags": []
   },
   "outputs": [
    {
     "data": {
      "text/plain": [
       "array([25110.14524653, 25432.60915134, 25978.72858898, 25764.03159897,\n",
       "       27011.98180956, 26789.95058838, 26951.16540523, 26497.09102449,\n",
       "       26677.23972531, 26509.78415711, 26892.51653284, 26825.56410531,\n",
       "       27427.72139522, 27345.82811394, 27636.28793286, 27477.45384675,\n",
       "       27570.85074658, 27395.90717355, 27583.57075075, 27474.44984796,\n",
       "       27753.32908204, 27706.60838812])"
      ]
     },
     "execution_count": 26,
     "metadata": {},
     "output_type": "execute_result"
    }
   ],
   "source": [
    "predictions=model_ar_fit.predict(start=81,end=102)\n",
    "predictions"
   ]
  },
  {
   "cell_type": "code",
   "execution_count": 27,
   "id": "87e2a196",
   "metadata": {
    "execution": {
     "iopub.execute_input": "2021-07-25T07:31:00.311755Z",
     "iopub.status.busy": "2021-07-25T07:31:00.311246Z",
     "iopub.status.idle": "2021-07-25T07:31:00.314544Z",
     "shell.execute_reply": "2021-07-25T07:31:00.314128Z",
     "shell.execute_reply.started": "2021-07-25T07:27:35.710082Z"
    },
    "papermill": {
     "duration": 0.039195,
     "end_time": "2021-07-25T07:31:00.314654",
     "exception": false,
     "start_time": "2021-07-25T07:31:00.275459",
     "status": "completed"
    },
    "tags": []
   },
   "outputs": [
    {
     "data": {
      "text/plain": [
       "array([[23431.7],\n",
       "       [23965.3],\n",
       "       [23474.8],\n",
       "       [23384.8],\n",
       "       [23808.7],\n",
       "       [24311.7],\n",
       "       [25315.1],\n",
       "       [23129.9],\n",
       "       [23324.9],\n",
       "       [23889.9],\n",
       "       [23206.6],\n",
       "       [21934.5],\n",
       "       [22573.1],\n",
       "       [23162.8],\n",
       "       [23253.4],\n",
       "       [22341. ],\n",
       "       [22628.2],\n",
       "       [22552.9],\n",
       "       [22504. ],\n",
       "       [20682. ],\n",
       "       [20491.9]])"
      ]
     },
     "execution_count": 27,
     "metadata": {},
     "output_type": "execute_result"
    }
   ],
   "source": [
    "test"
   ]
  },
  {
   "cell_type": "code",
   "execution_count": 28,
   "id": "5ed3cd36",
   "metadata": {
    "execution": {
     "iopub.execute_input": "2021-07-25T07:31:00.384203Z",
     "iopub.status.busy": "2021-07-25T07:31:00.383705Z",
     "iopub.status.idle": "2021-07-25T07:31:00.505817Z",
     "shell.execute_reply": "2021-07-25T07:31:00.506200Z",
     "shell.execute_reply.started": "2021-07-25T07:27:35.720645Z"
    },
    "papermill": {
     "duration": 0.159327,
     "end_time": "2021-07-25T07:31:00.506352",
     "exception": false,
     "start_time": "2021-07-25T07:31:00.347025",
     "status": "completed"
    },
    "tags": []
   },
   "outputs": [
    {
     "data": {
      "text/plain": [
       "[<matplotlib.lines.Line2D at 0x7f41701bb090>]"
      ]
     },
     "execution_count": 28,
     "metadata": {},
     "output_type": "execute_result"
    },
    {
     "data": {
      "image/png": "[encoded data removed]",
      "text/plain": [
       "<Figure size 432x288 with 1 Axes>"
      ]
     },
     "metadata": {
      "needs_background": "light"
     },
     "output_type": "display_data"
    }
   ],
   "source": [
    "plt.plot(test)\n",
    "plt.plot(predictions,color='red')"
   ]
  },
  {
   "cell_type": "code",
   "execution_count": 29,
   "id": "9f58aa4f",
   "metadata": {
    "execution": {
     "iopub.execute_input": "2021-07-25T07:31:00.576833Z",
     "iopub.status.busy": "2021-07-25T07:31:00.576149Z",
     "iopub.status.idle": "2021-07-25T07:31:00.579774Z",
     "shell.execute_reply": "2021-07-25T07:31:00.579237Z",
     "shell.execute_reply.started": "2021-07-25T07:27:35.883322Z"
    },
    "papermill": {
     "duration": 0.04009,
     "end_time": "2021-07-25T07:31:00.579896",
     "exception": false,
     "start_time": "2021-07-25T07:31:00.539806",
     "status": "completed"
    },
    "tags": []
   },
   "outputs": [],
   "source": [
    "###ARIMA Model"
   ]
  },
  {
   "cell_type": "code",
   "execution_count": 30,
   "id": "e22c9aeb",
   "metadata": {
    "execution": {
     "iopub.execute_input": "2021-07-25T07:31:00.649022Z",
     "iopub.status.busy": "2021-07-25T07:31:00.648539Z",
     "iopub.status.idle": "2021-07-25T07:31:00.652687Z",
     "shell.execute_reply": "2021-07-25T07:31:00.652222Z",
     "shell.execute_reply.started": "2021-07-25T07:27:35.887481Z"
    },
    "papermill": {
     "duration": 0.039513,
     "end_time": "2021-07-25T07:31:00.652808",
     "exception": false,
     "start_time": "2021-07-25T07:31:00.613295",
     "status": "completed"
    },
    "tags": []
   },
   "outputs": [],
   "source": [
    "from statsmodels.tsa.arima_model import ARIMA"
   ]
  },
  {
   "cell_type": "code",
   "execution_count": 31,
   "id": "f89ce41a",
   "metadata": {
    "execution": {
     "iopub.execute_input": "2021-07-25T07:31:00.726486Z",
     "iopub.status.busy": "2021-07-25T07:31:00.725899Z",
     "iopub.status.idle": "2021-07-25T07:31:05.544025Z",
     "shell.execute_reply": "2021-07-25T07:31:05.544574Z",
     "shell.execute_reply.started": "2021-07-25T07:27:35.899968Z"
    },
    "papermill": {
     "duration": 4.856765,
     "end_time": "2021-07-25T07:31:05.544753",
     "exception": false,
     "start_time": "2021-07-25T07:31:00.687988",
     "status": "completed"
    },
    "tags": []
   },
   "outputs": [
    {
     "name": "stderr",
     "output_type": "stream",
     "text": [
      "/opt/conda/lib/python3.7/site-packages/statsmodels/tsa/arima_model.py:472: FutureWarning: \n",
      "statsmodels.tsa.arima_model.ARMA and statsmodels.tsa.arima_model.ARIMA have\n",
      "been deprecated in favor of statsmodels.tsa.arima.model.ARIMA (note the .\n",
      "between arima and model) and\n",
      "statsmodels.tsa.SARIMAX. These will be removed after the 0.12 release.\n",
      "\n",
      "statsmodels.tsa.arima.model.ARIMA makes use of the statespace framework and\n",
      "is both well tested and maintained.\n",
      "\n",
      "To silence this warning and continue using ARMA and ARIMA until they are\n",
      "removed, use:\n",
      "\n",
      "import warnings\n",
      "warnings.filterwarnings('ignore', 'statsmodels.tsa.arima_model.ARMA',\n",
      "                        FutureWarning)\n",
      "warnings.filterwarnings('ignore', 'statsmodels.tsa.arima_model.ARIMA',\n",
      "                        FutureWarning)\n",
      "\n",
      "  warnings.warn(ARIMA_DEPRECATION_WARN, FutureWarning)\n"
     ]
    },
    {
     "name": "stdout",
     "output_type": "stream",
     "text": [
      "1457.6264068877078\n"
     ]
    }
   ],
   "source": [
    "#p,d,q ; p=periods taken for autoregressive model\n",
    "#d=order of integrated , difference\n",
    "#q=periods in moving average model\n",
    "model_arima=ARIMA(train,order=(10,1,0))\n",
    "model_arima_fit=model_arima.fit()\n",
    "print(model_arima_fit.aic)"
   ]
  },
  {
   "cell_type": "code",
   "execution_count": 32,
   "id": "467f76c5",
   "metadata": {
    "execution": {
     "iopub.execute_input": "2021-07-25T07:31:05.639772Z",
     "iopub.status.busy": "2021-07-25T07:31:05.639159Z",
     "iopub.status.idle": "2021-07-25T07:31:05.651746Z",
     "shell.execute_reply": "2021-07-25T07:31:05.652329Z",
     "shell.execute_reply.started": "2021-07-25T07:27:42.690231Z"
    },
    "papermill": {
     "duration": 0.062978,
     "end_time": "2021-07-25T07:31:05.652513",
     "exception": false,
     "start_time": "2021-07-25T07:31:05.589535",
     "status": "completed"
    },
    "tags": []
   },
   "outputs": [
    {
     "data": {
      "text/plain": [
       "array([24809.93953802, 24634.33541108, 24905.94557739, 24140.09049715,\n",
       "       25401.59025398, 25169.19770497, 25163.49802116, 24216.7724689 ,\n",
       "       24388.33177568, 23858.1213933 , 23923.13248272, 23259.99983184,\n",
       "       23935.35298101, 23728.60107809, 23970.60497064, 23426.55503629,\n",
       "       23617.19752599, 23114.6354974 , 23133.54202993, 22539.10501872,\n",
       "       22835.23327423])"
      ]
     },
     "execution_count": 32,
     "metadata": {},
     "output_type": "execute_result"
    }
   ],
   "source": [
    "predictions= model_arima_fit.forecast(steps=21)[0]\n",
    "predictions"
   ]
  },
  {
   "cell_type": "code",
   "execution_count": 33,
   "id": "96f0b9e3",
   "metadata": {
    "execution": {
     "iopub.execute_input": "2021-07-25T07:31:05.747606Z",
     "iopub.status.busy": "2021-07-25T07:31:05.746878Z",
     "iopub.status.idle": "2021-07-25T07:31:05.909591Z",
     "shell.execute_reply": "2021-07-25T07:31:05.910057Z",
     "shell.execute_reply.started": "2021-07-25T07:27:42.712098Z"
    },
    "papermill": {
     "duration": 0.213186,
     "end_time": "2021-07-25T07:31:05.910200",
     "exception": false,
     "start_time": "2021-07-25T07:31:05.697014",
     "status": "completed"
    },
    "tags": []
   },
   "outputs": [
    {
     "data": {
      "text/plain": [
       "[<matplotlib.lines.Line2D at 0x7f4160d5e490>]"
      ]
     },
     "execution_count": 33,
     "metadata": {},
     "output_type": "execute_result"
    },
    {
     "data": {
      "image/png": "[encoded data removed]",
      "text/plain": [
       "<Figure size 432x288 with 1 Axes>"
      ]
     },
     "metadata": {
      "needs_background": "light"
     },
     "output_type": "display_data"
    }
   ],
   "source": [
    "plt.plot(test)\n",
    "plt.plot(predictions,color='red')"
   ]
  },
  {
   "cell_type": "code",
   "execution_count": 34,
   "id": "c116692d",
   "metadata": {
    "execution": {
     "iopub.execute_input": "2021-07-25T07:31:05.983204Z",
     "iopub.status.busy": "2021-07-25T07:31:05.982519Z",
     "iopub.status.idle": "2021-07-25T07:31:05.988977Z",
     "shell.execute_reply": "2021-07-25T07:31:05.989373Z",
     "shell.execute_reply.started": "2021-07-25T07:27:42.909712Z"
    },
    "papermill": {
     "duration": 0.044638,
     "end_time": "2021-07-25T07:31:05.989511",
     "exception": false,
     "start_time": "2021-07-25T07:31:05.944873",
     "status": "completed"
    },
    "tags": []
   },
   "outputs": [
    {
     "data": {
      "text/plain": [
       "1302078.5193338846"
      ]
     },
     "execution_count": 34,
     "metadata": {},
     "output_type": "execute_result"
    }
   ],
   "source": [
    "import numpy\n",
    "mean_squared_error(test,predictions)"
   ]
  },
  {
   "cell_type": "code",
   "execution_count": 35,
   "id": "1f3926fe",
   "metadata": {
    "execution": {
     "iopub.execute_input": "2021-07-25T07:31:06.064060Z",
     "iopub.status.busy": "2021-07-25T07:31:06.063579Z",
     "iopub.status.idle": "2021-07-25T07:31:06.075566Z",
     "shell.execute_reply": "2021-07-25T07:31:06.075941Z",
     "shell.execute_reply.started": "2021-07-25T07:27:42.917469Z"
    },
    "papermill": {
     "duration": 0.051121,
     "end_time": "2021-07-25T07:31:06.076087",
     "exception": false,
     "start_time": "2021-07-25T07:31:06.024966",
     "status": "completed"
    },
    "tags": []
   },
   "outputs": [
    {
     "data": {
      "text/plain": [
       "[(0, 0, 0),\n",
       " (0, 0, 1),\n",
       " (0, 0, 2),\n",
       " (0, 0, 3),\n",
       " (0, 0, 4),\n",
       " (0, 1, 0),\n",
       " (0, 1, 1),\n",
       " (0, 1, 2),\n",
       " (0, 1, 3),\n",
       " (0, 1, 4),\n",
       " (0, 2, 0),\n",
       " (0, 2, 1),\n",
       " (0, 2, 2),\n",
       " (0, 2, 3),\n",
       " (0, 2, 4),\n",
       " (0, 3, 0),\n",
       " (0, 3, 1),\n",
       " (0, 3, 2),\n",
       " (0, 3, 3),\n",
       " (0, 3, 4),\n",
       " (0, 4, 0),\n",
       " (0, 4, 1),\n",
       " (0, 4, 2),\n",
       " (0, 4, 3),\n",
       " (0, 4, 4),\n",
       " (1, 0, 0),\n",
       " (1, 0, 1),\n",
       " (1, 0, 2),\n",
       " (1, 0, 3),\n",
       " (1, 0, 4),\n",
       " (1, 1, 0),\n",
       " (1, 1, 1),\n",
       " (1, 1, 2),\n",
       " (1, 1, 3),\n",
       " (1, 1, 4),\n",
       " (1, 2, 0),\n",
       " (1, 2, 1),\n",
       " (1, 2, 2),\n",
       " (1, 2, 3),\n",
       " (1, 2, 4),\n",
       " (1, 3, 0),\n",
       " (1, 3, 1),\n",
       " (1, 3, 2),\n",
       " (1, 3, 3),\n",
       " (1, 3, 4),\n",
       " (1, 4, 0),\n",
       " (1, 4, 1),\n",
       " (1, 4, 2),\n",
       " (1, 4, 3),\n",
       " (1, 4, 4),\n",
       " (2, 0, 0),\n",
       " (2, 0, 1),\n",
       " (2, 0, 2),\n",
       " (2, 0, 3),\n",
       " (2, 0, 4),\n",
       " (2, 1, 0),\n",
       " (2, 1, 1),\n",
       " (2, 1, 2),\n",
       " (2, 1, 3),\n",
       " (2, 1, 4),\n",
       " (2, 2, 0),\n",
       " (2, 2, 1),\n",
       " (2, 2, 2),\n",
       " (2, 2, 3),\n",
       " (2, 2, 4),\n",
       " (2, 3, 0),\n",
       " (2, 3, 1),\n",
       " (2, 3, 2),\n",
       " (2, 3, 3),\n",
       " (2, 3, 4),\n",
       " (2, 4, 0),\n",
       " (2, 4, 1),\n",
       " (2, 4, 2),\n",
       " (2, 4, 3),\n",
       " (2, 4, 4),\n",
       " (3, 0, 0),\n",
       " (3, 0, 1),\n",
       " (3, 0, 2),\n",
       " (3, 0, 3),\n",
       " (3, 0, 4),\n",
       " (3, 1, 0),\n",
       " (3, 1, 1),\n",
       " (3, 1, 2),\n",
       " (3, 1, 3),\n",
       " (3, 1, 4),\n",
       " (3, 2, 0),\n",
       " (3, 2, 1),\n",
       " (3, 2, 2),\n",
       " (3, 2, 3),\n",
       " (3, 2, 4),\n",
       " (3, 3, 0),\n",
       " (3, 3, 1),\n",
       " (3, 3, 2),\n",
       " (3, 3, 3),\n",
       " (3, 3, 4),\n",
       " (3, 4, 0),\n",
       " (3, 4, 1),\n",
       " (3, 4, 2),\n",
       " (3, 4, 3),\n",
       " (3, 4, 4),\n",
       " (4, 0, 0),\n",
       " (4, 0, 1),\n",
       " (4, 0, 2),\n",
       " (4, 0, 3),\n",
       " (4, 0, 4),\n",
       " (4, 1, 0),\n",
       " (4, 1, 1),\n",
       " (4, 1, 2),\n",
       " (4, 1, 3),\n",
       " (4, 1, 4),\n",
       " (4, 2, 0),\n",
       " (4, 2, 1),\n",
       " (4, 2, 2),\n",
       " (4, 2, 3),\n",
       " (4, 2, 4),\n",
       " (4, 3, 0),\n",
       " (4, 3, 1),\n",
       " (4, 3, 2),\n",
       " (4, 3, 3),\n",
       " (4, 3, 4),\n",
       " (4, 4, 0),\n",
       " (4, 4, 1),\n",
       " (4, 4, 2),\n",
       " (4, 4, 3),\n",
       " (4, 4, 4)]"
      ]
     },
     "execution_count": 35,
     "metadata": {},
     "output_type": "execute_result"
    }
   ],
   "source": [
    "import itertools\n",
    "p=d=q=range(0,5)\n",
    "pdq=list(itertools.product(p,d,q))\n",
    "pdq"
   ]
  },
  {
   "cell_type": "code",
   "execution_count": 36,
   "id": "ffa4ff6f",
   "metadata": {
    "execution": {
     "iopub.execute_input": "2021-07-25T07:31:06.151608Z",
     "iopub.status.busy": "2021-07-25T07:31:06.151096Z",
     "iopub.status.idle": "2021-07-25T07:31:26.735144Z",
     "shell.execute_reply": "2021-07-25T07:31:26.734530Z",
     "shell.execute_reply.started": "2021-07-25T07:27:42.938872Z"
    },
    "papermill": {
     "duration": 20.621796,
     "end_time": "2021-07-25T07:31:26.735280",
     "exception": false,
     "start_time": "2021-07-25T07:31:06.113484",
     "status": "completed"
    },
    "tags": []
   },
   "outputs": [
    {
     "name": "stdout",
     "output_type": "stream",
     "text": [
      "(0, 0, 0) 1559.9316872199333\n",
      "(0, 0, 1) 1513.4805592360442\n",
      "(0, 0, 2) 1498.310286483731\n",
      "(0, 0, 3) 1498.0339167328025\n",
      "(0, 0, 4) 1475.570074221977\n",
      "(0, 1, 0) 1472.0771980117797\n",
      "(0, 1, 1) 1470.1665349982516\n",
      "(0, 1, 2) 1462.2303675484739\n",
      "(0, 1, 3) 1460.6707161908532\n",
      "(0, 1, 4) 1462.6330330339479\n",
      "(0, 2, 0) 1511.0987941766716\n",
      "(0, 2, 1) 1460.866280995551\n",
      "(0, 2, 2) 1460.0578132084372\n",
      "(0, 2, 3) 1455.2700520176004\n",
      "(0, 2, 4) 1455.006467639986\n",
      "(1, 0, 0) 1484.3943313306065\n",
      "(1, 0, 1) 1486.3362160295305\n",
      "(1, 0, 2) 1485.189775345671\n",
      "(1, 0, 3) 1486.8780581237509\n",
      "(1, 0, 4) 1477.5088287339402\n",
      "(1, 1, 0) 1472.7341364760543\n",
      "(1, 1, 1) 1459.7774955755658\n",
      "(1, 1, 2) 1460.5331640140553\n",
      "(1, 1, 3) 1446.0813633470693\n",
      "(1, 1, 4) 1448.0635545019672\n",
      "(1, 2, 0) 1498.2776192710155\n",
      "(1, 2, 1) 1461.8315582554048\n",
      "(1, 2, 2) 1453.7833949230314\n",
      "(1, 2, 3) 1454.7326639279795\n",
      "(1, 2, 4) 1440.5043910121387\n",
      "(2, 0, 0) 1486.3726520157047\n",
      "(2, 0, 1) 1486.3590310788966\n",
      "(2, 0, 2) 1487.0171708085836\n",
      "(2, 0, 3) 1472.7814807806512\n",
      "(2, 0, 4) 1473.3094789556362\n",
      "(2, 1, 0) 1466.7121446541057\n",
      "(2, 1, 1) 1461.0254483441954\n",
      "(2, 1, 2) 1458.402869889826\n",
      "(2, 1, 3) 1459.5911931293288\n",
      "(2, 2, 0) 1483.065730879101\n",
      "(2, 2, 1) 1456.637078992971\n",
      "(2, 2, 2) 1455.1977743512152\n",
      "(2, 2, 4) 1448.8661236009532\n",
      "(3, 0, 0) 1484.2664602900215\n",
      "(3, 0, 1) 1486.2124604411606\n",
      "(3, 0, 2) 1474.602591542208\n",
      "(3, 0, 3) 1474.1051573198029\n",
      "(3, 0, 4) 1474.7676728438844\n",
      "(3, 1, 0) 1467.7398692187303\n",
      "(3, 1, 3) 1451.3734184575542\n",
      "(3, 1, 4) 1451.9134578350047\n",
      "(3, 2, 0) 1469.2205699410008\n",
      "(3, 2, 1) 1469.7161636571795\n",
      "(4, 0, 0) 1486.1284498366233\n",
      "(4, 0, 3) 1472.0446681970564\n",
      "(4, 1, 0) 1468.6514790342858\n",
      "(4, 2, 0) 1470.8667313165008\n",
      "(4, 2, 1) 1473.92867364332\n",
      "(4, 2, 2) 1449.973883740046\n",
      "(4, 2, 3) 1446.5858912364586\n"
     ]
    }
   ],
   "source": [
    "import warnings \n",
    "warnings.filterwarnings('ignore')\n",
    "for param in pdq:\n",
    "    try:\n",
    "        model_arima=ARIMA(train,order=param)\n",
    "        model_arima_fit=model_arima.fit()\n",
    "        print(param,model_arima_fit.aic)\n",
    "    except:\n",
    "        continue"
   ]
  }
 ],
 "metadata": {
  "kernelspec": {
   "display_name": "Python 3",
   "language": "python",
   "name": "python3"
  },
  "language_info": {
   "codemirror_mode": {
    "name": "ipython",
    "version": 3
   },
   "file_extension": ".py",
   "mimetype": "text/x-python",
   "name": "python",
   "nbconvert_exporter": "python",
   "pygments_lexer": "ipython3",
   "version": "3.7.10"
  },
  "papermill": {
   "default_parameters": {},
   "duration": 39.837702,
   "end_time": "2021-07-25T07:31:28.542986",
   "environment_variables": {},
   "exception": null,
   "input_path": "__notebook__.ipynb",
   "output_path": "__notebook__.ipynb",
   "parameters": {},
   "start_time": "2021-07-25T07:30:48.705284",
   "version": "2.3.3"
  }
 },
 "nbformat": 4,
 "nbformat_minor": 5
}
